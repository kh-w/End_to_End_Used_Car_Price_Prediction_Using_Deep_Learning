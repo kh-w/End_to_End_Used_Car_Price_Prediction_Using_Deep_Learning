{
  "cells": [
    {
      "cell_type": "markdown",
      "metadata": {
        "id": "view-in-github",
        "colab_type": "text"
      },
      "source": [
        "<a href=\"https://colab.research.google.com/github/kh-w/used_car_pricing/blob/main/step_1_get_car_list_json.ipynb\" target=\"_parent\"><img src=\"https://colab.research.google.com/assets/colab-badge.svg\" alt=\"Open In Colab\"/></a>"
      ]
    },
    {
      "cell_type": "code",
      "execution_count": null,
      "metadata": {
        "scrolled": true,
        "id": "318gj6_4aAkO"
      },
      "outputs": [],
      "source": [
        "import requests\n",
        "import json\n",
        "from time import sleep\n",
        "from bs4 import BeautifulSoup\n",
        "import numpy as np\n",
        "import datetime\n",
        "import os #\n",
        "import re  # used later for string parsing\n",
        "\n",
        "os.chdir('/Users/kh/Documents/Python Projects/used_car_pricing')\n",
        "\n",
        "headers = {'User-Agent': 'Mozilla/5.0'}\n",
        "\n",
        "now = str(datetime.datetime.now().year)+str('0'+str(datetime.datetime.now().month))[-2:]+str('0'+str(datetime.datetime.now().day))[-2:]\n",
        "make_all = ['Toyota','Subaru','Mitsubishi','Kia','Hyundai','Honda']\n",
        "makeID_all = [20088,20041,20030,20068,20064,20017] # respectively\n",
        "priceMx = 20000\n",
        "distance = 30\n",
        "zipcode = 60605\n",
        "cars_per_page = 100\n",
        "\n",
        "for j in range(0,6):\n",
        "\n",
        "    make = make_all[j]\n",
        "    makeID = makeID_all[j]\n",
        "\n",
        "    url = 'https://www.cars.com/for-sale/searchresults.action/?mkId='+str(makeID)+'&perPage='+str(cars_per_page)+'&rd='+str(distance)+'&page='+'1'+'&prMx='+str(priceMx)+'&zc='+str(zipcode)\n",
        "    response = requests.get(url, headers=headers)\n",
        "    soup = BeautifulSoup(response.content, 'lxml')\n",
        "    print(make,makeID)\n",
        "    cars_total = soup.find('span', class_ = 'filter-count').text\n",
        "    cars_total = int(cars_total.replace(',' , ''))\n",
        "\n",
        "    no_of_pages = int(cars_total/cars_per_page) + (cars_total%cars_per_page>0)\n",
        "\n",
        "    if not os.path.exists('car lists'):\n",
        "        os.makedirs('car lists')\n",
        "\n",
        "    for i in range(0,no_of_pages):\n",
        "\n",
        "        print(i)\n",
        "\n",
        "        #sleep(np.random.choice([1,2,3,4,5,6,7,8,9,10,11,12,13,14,15])+5)\n",
        "\n",
        "        url = 'https://www.cars.com/for-sale/searchresults.action/?mkId='+str(makeID)+'&perPage='+str(cars_per_page)+'&rd='+str(distance)+'&page='+str(i)+'&prMx='+str(priceMx)+'&zc='+str(zipcode)\n",
        "        print(url)\n",
        "\n",
        "        response = requests.get(url, headers=headers)\n",
        "        soup = BeautifulSoup(response.content, 'lxml')\n",
        "\n",
        "        try:\n",
        "            data = json.loads(soup.find('script',{'id':'vehicleItemListSchema'}).contents[0][9:-5])\n",
        "        except:\n",
        "            data = 'Unable to get data'\n",
        "\n",
        "        file = open(\"car lists/\"+make+now+\"carlist\"+str(i)+\".txt\",\"w\")\n",
        "        file.write(str(data).replace(\"'\",'\"'))\n",
        "        file.close()\n",
        "\n"
      ]
    },
    {
      "cell_type": "code",
      "execution_count": null,
      "metadata": {
        "id": "YLm2FiNdaAkQ"
      },
      "outputs": [],
      "source": []
    },
    {
      "cell_type": "code",
      "execution_count": null,
      "metadata": {
        "id": "9i-i3GeNaAkQ"
      },
      "outputs": [],
      "source": []
    },
    {
      "cell_type": "code",
      "execution_count": null,
      "metadata": {
        "id": "IJ6Fq757aAkR"
      },
      "outputs": [],
      "source": []
    }
  ],
  "metadata": {
    "kernelspec": {
      "display_name": "Python 3",
      "language": "python",
      "name": "python3"
    },
    "language_info": {
      "codemirror_mode": {
        "name": "ipython",
        "version": 3
      },
      "file_extension": ".py",
      "mimetype": "text/x-python",
      "name": "python",
      "nbconvert_exporter": "python",
      "pygments_lexer": "ipython3",
      "version": "3.8.5"
    },
    "colab": {
      "provenance": [],
      "include_colab_link": true
    }
  },
  "nbformat": 4,
  "nbformat_minor": 0
}